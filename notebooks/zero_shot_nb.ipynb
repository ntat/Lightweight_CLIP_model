{
 "cells": [
  {
   "cell_type": "code",
   "execution_count": null,
   "id": "0",
   "metadata": {},
   "outputs": [],
   "source": [
    "import os\n",
    "import warnings\n",
    "import torchvision.datasets as dset\n",
    "\n",
    "from transformers import logging\n",
    "from torch.utils.data import DataLoader\n",
    "\n",
    "from encoder_models import *\n",
    "from utils_clip import *\n",
    "\n",
    "from tqdm import tqdm\n",
    "\n",
    "logging.set_verbosity_error()\n",
    "warnings.filterwarnings(\"ignore\")"
   ]
  },
  {
   "cell_type": "markdown",
   "id": "1",
   "metadata": {},
   "source": [
    "# Inits"
   ]
  },
  {
   "cell_type": "code",
   "execution_count": null,
   "id": "2",
   "metadata": {},
   "outputs": [],
   "source": [
    "config = load_config()\n",
    "\n",
    "checkpoint_path = config['paths']['checkpoint']\n",
    "vit_trans_name = 'google/vit-base-patch16-224'\n",
    "bert_model_name = 'bert-base-uncased'\n",
    "embed_dim = 128 ## make this dynamic\n",
    "\n",
    "device = \"cuda:0\" if torch.cuda.is_available() else \"cpu\"\n",
    "print (f'Using: {device}')\n",
    "\n",
    "coco_dataset_tst = dset.CocoCaptions(\n",
    "    root=config['data']['test_root'],\n",
    "    annFile=config['data']['test_ann']\n",
    ")\n",
    "\n",
    "test_dataset = CocoCaptionDataset(coco_dataset_tst, mode=\"test\")\n",
    "\n",
    "# instantiate\n",
    "encoder_1 = Transformer_One(vit_trans_name, embed_dim, device=device)\n",
    "encoder_2 = Transformer_Two(bert_model_name, embed_dim, device=device)\n",
    "# load\n",
    "encoder_1, encoder_2, _, _, loss_state_dct, epoch_load, tr_loss, vld_loss = load_model(checkpoint_path, encoder_1, encoder_2, device)\n",
    "logit_sc = loss_state_dct['logit_scale'].exp() ## logit scale\n",
    "# place\n",
    "encoder_1.to(device)\n",
    "encoder_2.to(device)\n",
    "\n",
    "dataloader = DataLoader(test_dataset, batch_size=1000, shuffle=False, drop_last=False, num_workers=16)"
   ]
  },
  {
   "cell_type": "markdown",
   "id": "3",
   "metadata": {},
   "source": [
    "# Precompute Image embeddings"
   ]
  },
  {
   "cell_type": "code",
   "execution_count": null,
   "id": "4",
   "metadata": {},
   "outputs": [],
   "source": [
    "save_path = config['paths']['img_embedd']\n",
    "pt_files = [f for f in os.listdir(save_path) if f.endswith('.pt')]\n",
    "\n",
    "if not pt_files:\n",
    "    precompute_img_emb(encoder_1, dataloader, save_path)\n",
    "\n",
    "im_em = load_embeddings(save_path)\n",
    "assert im_em.shape[0] == len(test_dataset), \"Dimension mismatch!\"\n",
    "print (im_em.shape)"
   ]
  },
  {
   "cell_type": "markdown",
   "id": "5",
   "metadata": {},
   "source": [
    "# Precompute text embeddings (classes)"
   ]
  },
  {
   "cell_type": "code",
   "execution_count": null,
   "id": "6",
   "metadata": {},
   "outputs": [],
   "source": [
    "path = config['paths']['coco_classes']\n",
    "class_embed, classes = precompute_class_emb(encoder_2, path)"
   ]
  },
  {
   "cell_type": "markdown",
   "id": "7",
   "metadata": {},
   "source": [
    "# Choose 5 images in random and plot Zero-Shot class predictions! "
   ]
  },
  {
   "cell_type": "code",
   "execution_count": null,
   "id": "8",
   "metadata": {},
   "outputs": [],
   "source": [
    "# take 5 random pictures and their embs\n",
    "random_images = torch.randint(0, len(test_dataset), (5,))\n",
    "query_images = im_em[random_images]\n",
    "\n",
    "im_plt = []\n",
    "txt_plt = []\n",
    "probs = []\n",
    "\n",
    "for i in range(len(query_images)):\n",
    "    top_idxs, sims = find_top_k_matches(class_embed, query_images[i].unsqueeze(0), logit_sc, k=5, device=device)\n",
    "    this_image, _ = coco_dataset_tst[random_images[i]]\n",
    "    relevant_txt = [classes[idx.item()] for idx in top_idxs]\n",
    "    im_plt.append(this_image)\n",
    "    txt_plt.append(relevant_txt)\n",
    "    probs.append(sims)\n",
    "\n",
    "plot_images_and_bars(im_plt, txt_plt, probs)"
   ]
  }
 ],
 "metadata": {
  "kernelspec": {
   "display_name": "Python 3 (ipykernel)",
   "language": "python",
   "name": "python3"
  },
  "language_info": {
   "codemirror_mode": {
    "name": "ipython",
    "version": 3
   },
   "file_extension": ".py",
   "mimetype": "text/x-python",
   "name": "python",
   "nbconvert_exporter": "python",
   "pygments_lexer": "ipython3",
   "version": "3.11.3"
  }
 },
 "nbformat": 4,
 "nbformat_minor": 5
}
